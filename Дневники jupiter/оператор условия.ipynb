{
 "cells": [
  {
   "cell_type": "code",
   "execution_count": 1,
   "id": "0bffe15f",
   "metadata": {},
   "outputs": [
    {
     "name": "stdout",
     "output_type": "stream",
     "text": [
      "Введи а=3\n",
      "Введи b=1\n",
      "a>b\n"
     ]
    }
   ],
   "source": [
    "a = int(input('Введи а='))\n",
    "b = int(input('Введи b='))\n",
    "if a > b:\n",
    "    print('a>b')\n",
    "else:\n",
    "    print('a меньше b')"
   ]
  },
  {
   "cell_type": "code",
   "execution_count": 4,
   "id": "16ce6598",
   "metadata": {},
   "outputs": [
    {
     "ename": "IndentationError",
     "evalue": "expected an indented block (<ipython-input-4-fff2d9ffbc22>, line 4)",
     "output_type": "error",
     "traceback": [
      "\u001b[1;36m  File \u001b[1;32m\"<ipython-input-4-fff2d9ffbc22>\"\u001b[1;36m, line \u001b[1;32m4\u001b[0m\n\u001b[1;33m    print('a>b')\u001b[0m\n\u001b[1;37m    ^\u001b[0m\n\u001b[1;31mIndentationError\u001b[0m\u001b[1;31m:\u001b[0m expected an indented block\n"
     ]
    }
   ],
   "source": [
    "a = int(input('Введи а='))\n",
    "b = int(input('Введи b='))\n",
    "if a > b:\n",
    "print('a>b')\n",
    "else:\n",
    "    print('a меньше b')\n",
    "    "
   ]
  },
  {
   "cell_type": "code",
   "execution_count": 6,
   "id": "33cdc0b8",
   "metadata": {},
   "outputs": [
    {
     "ename": "IndentationError",
     "evalue": "unindent does not match any outer indentation level (<tokenize>, line 5)",
     "output_type": "error",
     "traceback": [
      "\u001b[1;36m  File \u001b[1;32m\"<tokenize>\"\u001b[1;36m, line \u001b[1;32m5\u001b[0m\n\u001b[1;33m    else:\u001b[0m\n\u001b[1;37m    ^\u001b[0m\n\u001b[1;31mIndentationError\u001b[0m\u001b[1;31m:\u001b[0m unindent does not match any outer indentation level\n"
     ]
    }
   ],
   "source": [
    "a = int(input('Введи а='))\n",
    "b = int(input('Введи b='))\n",
    "if a > b:\n",
    "    print('a>b')\n",
    " else:\n",
    "    print('a меньше b')"
   ]
  },
  {
   "cell_type": "code",
   "execution_count": 7,
   "id": "e5b74cca",
   "metadata": {},
   "outputs": [
    {
     "name": "stdout",
     "output_type": "stream",
     "text": [
      "Введи а=5\n",
      "Введи b=5\n",
      "a меньше b\n"
     ]
    }
   ],
   "source": [
    "a = int(input('Введи а='))\n",
    "b = int(input('Введи b='))\n",
    "if a > b:\n",
    "    print('a>b')\n",
    "else:\n",
    "    print('a меньше b')"
   ]
  },
  {
   "cell_type": "code",
   "execution_count": 8,
   "id": "18ebebe8",
   "metadata": {},
   "outputs": [
    {
     "name": "stdout",
     "output_type": "stream",
     "text": [
      "Введи а=4\n",
      "Введи b=4\n",
      "числа равны\n"
     ]
    }
   ],
   "source": [
    "a = int(input('Введи а='))\n",
    "b = int(input('Введи b='))\n",
    "if a > b:\n",
    "    print('a>b')\n",
    "else: # а меньше или равно b\n",
    "    if a == b:\n",
    "        print('числа равны')\n",
    "    else:\n",
    "        print('a меньше b')"
   ]
  }
 ],
 "metadata": {
  "kernelspec": {
   "display_name": "Python 3",
   "language": "python",
   "name": "python3"
  },
  "language_info": {
   "codemirror_mode": {
    "name": "ipython",
    "version": 3
   },
   "file_extension": ".py",
   "mimetype": "text/x-python",
   "name": "python",
   "nbconvert_exporter": "python",
   "pygments_lexer": "ipython3",
   "version": "3.8.8"
  }
 },
 "nbformat": 4,
 "nbformat_minor": 5
}
